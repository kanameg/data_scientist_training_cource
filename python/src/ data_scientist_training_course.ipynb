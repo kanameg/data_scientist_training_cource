{
 "cells": [
  {
   "cell_type": "markdown",
   "id": "59e78ce1-e677-4be8-875a-bc660865d79f",
   "metadata": {},
   "source": [
    "## 4 確率と統計の基礎"
   ]
  },
  {
   "cell_type": "markdown",
   "id": "5d45d91f-0a87-42f9-a2cc-f5a656fb927b",
   "metadata": {},
   "source": [
    "### 4-1 確率と統計を学ぶ準備"
   ]
  },
  {
   "cell_type": "markdown",
   "id": "6e436196-2a06-4a84-9844-48b825b165a9",
   "metadata": {},
   "source": [
    "#### ライブラリのインポート"
   ]
  },
  {
   "cell_type": "code",
   "execution_count": 48,
   "id": "83459cf2-8083-4307-9002-6816c4d160a9",
   "metadata": {},
   "outputs": [],
   "source": [
    "import numpy as np\n",
    "import scipy as sp\n",
    "import pandas as pd\n",
    "from pandas import Series\n",
    "from pandas import DataFrame\n",
    "\n",
    "# 可視化ライブラリ\n",
    "import matplotlib.pyplot as plt\n",
    "import matplotlib as mpl\n",
    "import seaborn as sns\n",
    "%matplotlib inline\n",
    "\n",
    "# 少数第3位まで表示\n",
    "%precision 3\n",
    "\n",
    "# 乱数シードの固定\n",
    "np.random.seed(0)\n"
   ]
  },
  {
   "cell_type": "markdown",
   "id": "cdf8f305-f082-413e-a48e-cc6270d3914a",
   "metadata": {},
   "source": [
    "### 4-2 確率"
   ]
  },
  {
   "cell_type": "code",
   "execution_count": 49,
   "id": "a0299b02-1e0d-43b7-b492-5206feedb9c2",
   "metadata": {},
   "outputs": [],
   "source": [
    "dice_data = np.array([1, 2, 3, 4, 5, 6])"
   ]
  },
  {
   "cell_type": "code",
   "execution_count": 50,
   "id": "a94610b7-ce17-4d36-a5c3-030c07f38290",
   "metadata": {},
   "outputs": [
    {
     "output_type": "execute_result",
     "data": {
      "text/plain": [
       "array([5])"
      ]
     },
     "metadata": {},
     "execution_count": 50
    }
   ],
   "source": [
    "np.random.choice(dice_data, 1)"
   ]
  },
  {
   "cell_type": "markdown",
   "id": "0d9ca869-4919-40b4-8db2-424c34b84e80",
   "metadata": {},
   "source": [
    "一つづつの試行結果のことを**根元事象（基本事象）**。すべての可能な根元事象を集めた集合を**標本空間**。標本空間の任意の部分を **事象** という。"
   ]
  },
  {
   "source": [
    "#### 空事象\n",
    "要素を持たない集合のこと。\n",
    "\n",
    "#### 余事象\n",
    "ある事象に属さない集合のことをその事象の余事象という。補集合ともいう。\n",
    "\n",
    "#### 積事象・和事象\n",
    "2つの事象に共通な事象のことを**積事象**という。2つの事象のすべての事象をあわせたものを**和事象**という。"
   ],
   "cell_type": "markdown",
   "metadata": {}
  },
  {
   "source": [
    "### 統計的確率"
   ],
   "cell_type": "markdown",
   "metadata": {}
  },
  {
   "cell_type": "code",
   "execution_count": 51,
   "metadata": {},
   "outputs": [
    {
     "output_type": "stream",
     "name": "stdout",
     "text": [
      "1 が出る確率 0.171\n2 が出る確率 0.158\n3 が出る確率 0.157\n4 が出る確率 0.183\n5 が出る確率 0.16\n6 が出る確率 0.171\n"
     ]
    }
   ],
   "source": [
    "# サイコロを振る試行回数\n",
    "calc_steps = 1000\n",
    "\n",
    "# サイコロを試行回数分抽出\n",
    "dice_rolls = np.random.choice(dice_data, calc_steps)\n",
    "\n",
    "# それぞれの事象がどれくらい発生したかを計算\n",
    "for n in dice_data:\n",
    "    p = len(dice_rolls[dice_rolls == n]) / calc_steps\n",
    "    print(n, 'が出る確率', p)\n",
    "    \n"
   ]
  },
  {
   "cell_type": "code",
   "execution_count": null,
   "metadata": {},
   "outputs": [],
   "source": []
  }
 ],
 "metadata": {
  "kernelspec": {
   "name": "python3",
   "display_name": "Python 3.9.6 64-bit"
  },
  "language_info": {
   "codemirror_mode": {
    "name": "ipython",
    "version": 3
   },
   "file_extension": ".py",
   "mimetype": "text/x-python",
   "name": "python",
   "nbconvert_exporter": "python",
   "pygments_lexer": "ipython3",
   "version": "3.9.5"
  },
  "interpreter": {
   "hash": "aee8b7b246df8f9039afb4144a1f6fd8d2ca17a180786b69acc140d282b71a49"
  }
 },
 "nbformat": 4,
 "nbformat_minor": 5
}